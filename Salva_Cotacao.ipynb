{
 "cells": [
  {
   "cell_type": "code",
   "execution_count": null,
   "id": "e498eb06",
   "metadata": {},
   "outputs": [],
   "source": [
    "import yfinance as yf\n",
    "import pandas as pd"
   ]
  },
  {
   "cell_type": "code",
   "execution_count": null,
   "id": "a3d84461",
   "metadata": {},
   "outputs": [],
   "source": [
    "# Ativos\n",
    "ativos = [\"HGRU11.SA\", \"HSLG11.SA\", \"KNCR11.SA\", \"MXRF11.SA\", \"PORD11.SA\",\n",
    "          \"RZTR11.SA\", \"VGHF11.SA\", \"GGRC11.SA\", \"XPLG11.SA\", \"XPML11.SA\",\n",
    "          \"GARE11.SA\", \"VISC11.SA\"]\n",
    "\n",
    "# Baixando os dados\n",
    "data = yf.download(ativos, period=\"max\")\n",
    "\n",
    "# Selecionando apenas as colunas necessárias\n",
    "data = data['Close']\n",
    "\n",
    "# Formatar o índice (data) para o formato desejado\n",
    "data.index = data.index.strftime('%d-%m-%Y')\n",
    "\n",
    "# Usando a função melt para transformar o DataFrame\n",
    "df_melted = data.melt(ignore_index=False, var_name='ticker', value_name='valor_cotação')\n",
    "\n",
    "# Renomeando o índice para 'date'\n",
    "df_melted.index.name = 'date'\n",
    "\n",
    "# Resetando o índice para tornar 'date' uma coluna\n",
    "df_melted = df_melted.reset_index()\n",
    "\n",
    "# Reorganizando as colunas na ordem desejada\n",
    "df_organizado = df_melted[['date', 'ticker', 'valor_cotação']]\n",
    "\n",
    "# Salvar o DataFrame em um arquivo Excel\n",
    "df_organizado.to_excel('dados_organizados.xlsx', index=False)\n",
    "\n",
    "df_organizado.head()"
   ]
  },
  {
   "cell_type": "code",
   "execution_count": null,
   "id": "ceb87cdc",
   "metadata": {},
   "outputs": [],
   "source": []
  },
  {
   "cell_type": "code",
   "execution_count": null,
   "id": "42d949ce",
   "metadata": {},
   "outputs": [],
   "source": []
  },
  {
   "cell_type": "code",
   "execution_count": null,
   "id": "07a08244",
   "metadata": {},
   "outputs": [],
   "source": []
  }
 ],
 "metadata": {
  "kernelspec": {
   "display_name": "base",
   "language": "python",
   "name": "python3"
  },
  "language_info": {
   "codemirror_mode": {
    "name": "ipython",
    "version": 3
   },
   "file_extension": ".py",
   "mimetype": "text/x-python",
   "name": "python",
   "nbconvert_exporter": "python",
   "pygments_lexer": "ipython3",
   "version": "3.11.5"
  }
 },
 "nbformat": 4,
 "nbformat_minor": 5
}
