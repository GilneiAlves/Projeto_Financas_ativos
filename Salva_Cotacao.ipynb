{
 "cells": [
  {
   "cell_type": "code",
   "execution_count": null,
   "id": "e498eb06",
   "metadata": {},
   "outputs": [],
   "source": [
    "import yfinance as yf\n",
    "import pandas as pd\n",
    "from ativos_precos import ativos_config"
   ]
  },
  {
   "cell_type": "code",
   "execution_count": null,
   "id": "a3d84461",
   "metadata": {},
   "outputs": [],
   "source": [
    "# Ativos\n",
    "ativos = ativos_config\n",
    "\n",
    "# Baixando os dados\n",
    "data = yf.download(ativos, period=\"max\")\n",
    "\n",
    "# Selecionando apenas as colunas necessárias\n",
    "data = data['Close']\n",
    "\n",
    "# Formatar o índice (data) para o formato desejado\n",
    "data.index = data.index.strftime('%d-%m-%Y')\n",
    "\n",
    "# Usando a função melt para transformar o DataFrame\n",
    "df_melted = data.melt(ignore_index=False, var_name='ticker', value_name='valor_cotação')\n",
    "\n",
    "# Renomeando o índice para 'date'\n",
    "df_melted.index.name = 'date'\n",
    "\n",
    "# Resetando o índice para tornar 'date' uma coluna\n",
    "df_melted = df_melted.reset_index()\n",
    "\n",
    "# Reorganizando as colunas na ordem desejada\n",
    "df_organizado = df_melted[['date', 'ticker', 'valor_cotação']]\n",
    "\n",
    "# Salvar o DataFrame em um arquivo Excel\n",
    "#df_organizado.to_excel('dados_organizados.xlsx', index=False)\n",
    "\n",
    "df_organizado.head()"
   ]
  },
  {
   "cell_type": "code",
   "execution_count": null,
   "id": "ceb87cdc",
   "metadata": {},
   "outputs": [],
   "source": [
    "def baixar_salvar_dividendos(ativos, nome_arquivo_excel='dividendos.xlsx'):\n",
    "    \"\"\"\n",
    "    Baixa os dados de dividendos para uma lista de ativos e salva em um DataFrame\n",
    "    e em um arquivo Excel.\n",
    "\n",
    "    Args:\n",
    "        ativos (list): Uma lista de tickers de ativos (ex: [\"HGRU11.SA\", \"MXRF11.SA\"]).\n",
    "        nome_arquivo_excel (str, optional): O nome do arquivo Excel para salvar os dados.\n",
    "                                             Padrão é 'dividendos.xlsx'.\n",
    "\n",
    "    Returns:\n",
    "        pd.DataFrame: Um DataFrame contendo o histórico de dividendos para todos os ativos.\n",
    "                      O DataFrame terá colunas 'ticker', 'date' e 'dividendo'.\n",
    "    \"\"\"\n",
    "    todos_dividendos = []\n",
    "    for ticker in ativos:\n",
    "        try:\n",
    "            data_dividends = yf.Ticker(ticker).dividends\n",
    "            if not data_dividends.empty:\n",
    "                df_dividends = data_dividends.to_frame(name='dividendo')\n",
    "                df_dividends['ticker'] = ticker\n",
    "                df_dividends.index.name = 'date'\n",
    "                df_dividends = df_dividends.reset_index()\n",
    "                todos_dividendos.append(df_dividends)\n",
    "            else:\n",
    "                print(f\"Não foram encontrados dividendos para {ticker}.\")\n",
    "        except Exception as e:\n",
    "            print(f\"Erro ao baixar dividendos para {ticker}: {e}\")\n",
    "\n",
    "    if todos_dividendos:\n",
    "        df_final_dividendos = pd.concat(todos_dividendos, ignore_index=True)\n",
    "        try:\n",
    "            df_final_dividendos['date'] = df_final_dividendos['date'].dt.strftime('%Y-%m-%d')\n",
    "            df_final_dividendos.to_excel(nome_arquivo_excel, index=False)\n",
    "            print(f\"Dados de dividendos salvos com sucesso em '{nome_arquivo_excel}'.\")\n",
    "            return df_final_dividendos\n",
    "        except Exception as e:\n",
    "            print(f\"Erro ao salvar os dados de dividendos em Excel: {e}\")\n",
    "            return df_final_dividendos\n",
    "    else:\n",
    "        print(\"Nenhum dado de dividendo foi baixado.\")\n",
    "        return pd.DataFrame(columns=['ticker', 'date', 'dividendo'])\n",
    "\n",
    "df_dividendos_baixados = baixar_salvar_dividendos(ativos_config, 'historico_dividendos.xlsx')\n",
    "if df_dividendos_baixados is not None:\n",
    "     print(df_dividendos_baixados.head())"
   ]
  }
 ],
 "metadata": {
  "kernelspec": {
   "display_name": "base",
   "language": "python",
   "name": "python3"
  },
  "language_info": {
   "codemirror_mode": {
    "name": "ipython",
    "version": 3
   },
   "file_extension": ".py",
   "mimetype": "text/x-python",
   "name": "python",
   "nbconvert_exporter": "python",
   "pygments_lexer": "ipython3",
   "version": "3.11.5"
  }
 },
 "nbformat": 4,
 "nbformat_minor": 5
}
