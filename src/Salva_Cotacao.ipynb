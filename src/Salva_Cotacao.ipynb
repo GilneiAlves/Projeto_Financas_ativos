{
 "cells": [
  {
   "cell_type": "code",
   "execution_count": null,
   "id": "e498eb06",
   "metadata": {},
   "outputs": [],
   "source": [
    "import requests\n",
    "import pandas as pd\n",
    "import time\n",
    "from datetime import datetime, timedelta\n",
    "from ativos_precos import ativos_config\n",
    "from src.dados_online import buscar_dados_cotacoes_yahoo, buscar_dividendos_yahoo"
   ]
  },
  {
   "cell_type": "code",
   "execution_count": null,
   "id": "2fa552d6",
   "metadata": {},
   "outputs": [],
   "source": [
    "#%%capture\n",
    "# Grava dados de cotação dos ativos\n",
    "df_cotacoes = buscar_dados_cotacoes_yahoo(ativos_config)\n",
    "\n",
    "df_cotacoes.to_excel('data\\dados_organizados.xlsx', index=False)"
   ]
  },
  {
   "cell_type": "code",
   "execution_count": null,
   "id": "0ae7837b",
   "metadata": {},
   "outputs": [],
   "source": [
    "#%%capture\n",
    "# Grava dados dos dividendos para cada ativo\n",
    "df_dividendos = buscar_dividendos_yahoo(ativos_config)\n",
    "\n",
    "df_dividendos.to_excel('data\\historico_dividendos.xlsx', index=False)"
   ]
  }
 ],
 "metadata": {
  "kernelspec": {
   "display_name": "base",
   "language": "python",
   "name": "python3"
  },
  "language_info": {
   "codemirror_mode": {
    "name": "ipython",
    "version": 3
   },
   "file_extension": ".py",
   "mimetype": "text/x-python",
   "name": "python",
   "nbconvert_exporter": "python",
   "pygments_lexer": "ipython3",
   "version": "3.11.5"
  }
 },
 "nbformat": 4,
 "nbformat_minor": 5
}
